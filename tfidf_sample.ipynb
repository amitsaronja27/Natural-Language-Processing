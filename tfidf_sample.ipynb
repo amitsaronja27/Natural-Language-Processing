{
  "nbformat": 4,
  "nbformat_minor": 0,
  "metadata": {
    "colab": {
      "name": "Untitled9.ipynb",
      "provenance": [],
      "include_colab_link": true
    },
    "kernelspec": {
      "name": "python3",
      "display_name": "Python 3"
    }
  },
  "cells": [
    {
      "cell_type": "markdown",
      "metadata": {
        "id": "view-in-github",
        "colab_type": "text"
      },
      "source": [
        "<a href=\"https://colab.research.google.com/github/amitsaronja27/Natural-Language-Processing/blob/master/tfidf_sample.ipynb\" target=\"_parent\"><img src=\"https://colab.research.google.com/assets/colab-badge.svg\" alt=\"Open In Colab\"/></a>"
      ]
    },
    {
      "cell_type": "code",
      "metadata": {
        "id": "Itp1ULrvAgoo",
        "colab_type": "code",
        "colab": {}
      },
      "source": [
        "import nltk"
      ],
      "execution_count": 0,
      "outputs": []
    },
    {
      "cell_type": "code",
      "metadata": {
        "id": "PDkcJe9kGdap",
        "colab_type": "code",
        "colab": {
          "base_uri": "https://localhost:8080/",
          "height": 70
        },
        "outputId": "ed9f08aa-7ba0-468d-a4d4-5d228bf71496"
      },
      "source": [
        "nltk.download('stopwords')"
      ],
      "execution_count": 29,
      "outputs": [
        {
          "output_type": "stream",
          "text": [
            "[nltk_data] Downloading package stopwords to /root/nltk_data...\n",
            "[nltk_data]   Unzipping corpora/stopwords.zip.\n"
          ],
          "name": "stdout"
        },
        {
          "output_type": "execute_result",
          "data": {
            "text/plain": [
              "True"
            ]
          },
          "metadata": {
            "tags": []
          },
          "execution_count": 29
        }
      ]
    },
    {
      "cell_type": "code",
      "metadata": {
        "id": "QpQovRCdIFBH",
        "colab_type": "code",
        "colab": {
          "base_uri": "https://localhost:8080/",
          "height": 70
        },
        "outputId": "791106eb-fabd-4452-c327-8cf9c5ee5a8d"
      },
      "source": [
        "nltk.download('wordnet')"
      ],
      "execution_count": 33,
      "outputs": [
        {
          "output_type": "stream",
          "text": [
            "[nltk_data] Downloading package wordnet to /root/nltk_data...\n",
            "[nltk_data]   Unzipping corpora/wordnet.zip.\n"
          ],
          "name": "stdout"
        },
        {
          "output_type": "execute_result",
          "data": {
            "text/plain": [
              "True"
            ]
          },
          "metadata": {
            "tags": []
          },
          "execution_count": 33
        }
      ]
    },
    {
      "cell_type": "code",
      "metadata": {
        "id": "1rI7PF6WIyVe",
        "colab_type": "code",
        "colab": {}
      },
      "source": [
        "stopWords = set(stopwords.words('english'))"
      ],
      "execution_count": 0,
      "outputs": []
    },
    {
      "cell_type": "code",
      "metadata": {
        "id": "_3UAeJEhI2WP",
        "colab_type": "code",
        "colab": {
          "base_uri": "https://localhost:8080/",
          "height": 72
        },
        "outputId": "4a7c6de8-05b5-47cb-dc3e-c13fb7a2c167"
      },
      "source": [
        "print(len(stopWords))\n",
        "print(stopWords)"
      ],
      "execution_count": 41,
      "outputs": [
        {
          "output_type": "stream",
          "text": [
            "179\n",
            "{'does', 'few', 'aren', 'myself', \"you'll\", 'under', 's', \"weren't\", \"don't\", 'whom', 'a', 'each', 'which', 'from', 'ourselves', 'itself', 'off', 'so', 'they', 'why', 'me', 'but', \"couldn't\", 'their', 'what', 'o', 'haven', 'here', 'mustn', 'weren', 'above', 'your', 'have', 'the', 'been', 'for', 'same', \"aren't\", 'needn', 'these', 'while', 'into', \"you're\", 'not', \"that'll\", \"hadn't\", 'doing', \"shan't\", 'where', 'd', 'he', 'was', 'should', 'most', 'there', 'over', 'and', 'after', 'in', 'can', 'it', 'we', 'if', 'only', 'himself', 'other', \"haven't\", 'did', 'now', 'him', 'she', 'couldn', 'more', 'or', \"wasn't\", 'an', 'until', 'at', 'didn', 'before', 'his', 'themselves', 'her', 'to', \"doesn't\", 'just', 'because', 'ours', 'no', \"mustn't\", \"shouldn't\", 'are', 'up', 'am', 'is', 'when', 'some', 'out', 'those', 'as', 'during', \"mightn't\", \"she's\", 'having', 'than', 'y', 'again', 'you', 'my', 'be', 'll', 'our', 'about', 'down', \"wouldn't\", 'on', 'ma', 'hers', 'wouldn', \"needn't\", 'them', 'against', 'then', 'below', 'i', 'nor', 'too', 'any', \"it's\", 'theirs', 'all', 'through', 'shan', 'further', \"didn't\", \"hasn't\", \"isn't\", 'will', 'this', 'being', \"you'd\", 'its', 't', 'won', 'don', 'isn', 'yourselves', 'hasn', 'has', 'yourself', 'by', \"won't\", 'shouldn', 'who', 'that', 'how', 've', 'do', 'doesn', 'between', 'own', 'hadn', 'both', 'of', 'were', \"you've\", 'such', 'herself', 'very', 'had', 'with', 'm', 'ain', 'wasn', 're', 'yours', 'mightn', \"should've\", 'once'}\n"
          ],
          "name": "stdout"
        }
      ]
    },
    {
      "cell_type": "code",
      "metadata": {
        "id": "Cwt28giFAh7b",
        "colab_type": "code",
        "colab": {}
      },
      "source": [
        "paragraph =  \"\"\"I have three visions for India. In 3000 years of our history, people from all over \n",
        "               the world have come and invaded us, captured our lands, conquered our minds. \n",
        "               From Alexander onwards, the Greeks, the Turks, the Moguls, the Portuguese, the British,\n",
        "               the French, the Dutch, all of them came and looted us, took over what was ours. \n",
        "               Yet we have not done this to any other nation. We have not conquered anyone. \n",
        "               We have not grabbed their land, their culture, \n",
        "               their history and tried to enforce our way of life on them. \n",
        "               Why? Because we respect the freedom of others.That is why my \n",
        "               first vision is that of freedom. I believe that India got its first vision of \n",
        "               this in 1857, when we started the War of Independence. It is this freedom that\n",
        "               we must protect and nurture and build on. If we are not free, no one will respect us.\n",
        "               My second vision for India’s development. For fifty years we have been a developing nation.\n",
        "               It is time we see ourselves as a developed nation. We are among the top 5 nations of the world\n",
        "               in terms of GDP. We have a 10 percent growth rate in most areas. Our poverty levels are falling.\n",
        "               Our achievements are being globally recognised today. Yet we lack the self-confidence to\n",
        "               see ourselves as a developed nation, self-reliant and self-assured. Isn’t this incorrect?\n",
        "               I have a third vision. India must stand up to the world. Because I believe that unless India \n",
        "               stands up to the world, no one will respect us. Only strength respects strength. We must be \n",
        "               strong not only as a military power but also as an economic power. Both must go hand-in-hand. \n",
        "               My good fortune was to have worked with three great minds. Dr. Vikram Sarabhai of the Dept. of \n",
        "               space, Professor Satish Dhawan, who succeeded him and Dr. Brahm Prakash, father of nuclear material.\n",
        "               I was lucky to have worked with all three of them closely and consider this the great opportunity of my life. \n",
        "               I see four milestones in my career\"\"\"\n",
        "            "
      ],
      "execution_count": 0,
      "outputs": []
    },
    {
      "cell_type": "code",
      "metadata": {
        "id": "yzSv50MvAowJ",
        "colab_type": "code",
        "colab": {}
      },
      "source": [
        "# Cleaning the texts\n",
        "import re\n",
        "from nltk.corpus import stopwords\n",
        "from nltk.stem.porter import PorterStemmer\n",
        "from nltk.stem import WordNetLemmatizer"
      ],
      "execution_count": 0,
      "outputs": []
    },
    {
      "cell_type": "code",
      "metadata": {
        "id": "ZrnVy7LfFgav",
        "colab_type": "code",
        "colab": {}
      },
      "source": [
        "ps = PorterStemmer()\n",
        "wordnet=WordNetLemmatizer()\n",
        "sentences=nltk.sent_tokenize(paragraph)\n",
        "corpus = []   # empty list initialization"
      ],
      "execution_count": 0,
      "outputs": []
    },
    {
      "cell_type": "code",
      "metadata": {
        "id": "MibGld0OAyqD",
        "colab_type": "code",
        "colab": {
          "base_uri": "https://localhost:8080/",
          "height": 567
        },
        "outputId": "910cc6c2-084f-4ff1-a6b5-d8796e4aa1a7"
      },
      "source": [
        "for i in range(len(sentences)):\n",
        "    review = re.sub('[^a-zA-Z]', ' ', sentences[i])   # removed all punctuations apart from all char a-z or A-Z\n",
        "   \n",
        "    review = review.lower()  # convert to lower case\n",
        "    \n",
        "    review = review.split()  #split all the words\n",
        "    \n",
        "    review = [wordnet.lemmatize(word) for word in review if not word in set(stopwords.words('english'))]  #remove all the stopwords in english\n",
        "    \n",
        "    review = ' '.join(review)\n",
        "\n",
        "   \n",
        "    corpus.append(review)  # appending to list\n",
        "\n",
        "    #print(review) "
      ],
      "execution_count": 53,
      "outputs": [
        {
          "output_type": "stream",
          "text": [
            "three vision india\n",
            "year history people world come invaded u captured land conquered mind\n",
            "alexander onwards greek turk mogul portuguese british french dutch came looted u took\n",
            "yet done nation\n",
            "conquered anyone\n",
            "grabbed land culture history tried enforce way life\n",
            "\n",
            "respect freedom others first vision freedom\n",
            "believe india got first vision started war independence\n",
            "freedom must protect nurture build\n",
            "free one respect u\n",
            "second vision india development\n",
            "fifty year developing nation\n",
            "time see developed nation\n",
            "among top nation world term gdp\n",
            "percent growth rate area\n",
            "poverty level falling\n",
            "achievement globally recognised today\n",
            "yet lack self confidence see developed nation self reliant self assured\n",
            "incorrect\n",
            "third vision\n",
            "india must stand world\n",
            "believe unless india stand world one respect u\n",
            "strength respect strength\n",
            "must strong military power also economic power\n",
            "must go hand hand\n",
            "good fortune worked three great mind\n",
            "dr vikram sarabhai dept\n",
            "space professor satish dhawan succeeded dr brahm prakash father nuclear material\n",
            "lucky worked three closely consider great opportunity life\n",
            "see four milestone career\n"
          ],
          "name": "stdout"
        }
      ]
    },
    {
      "cell_type": "code",
      "metadata": {
        "id": "jgdOvgAlTSle",
        "colab_type": "code",
        "colab": {
          "base_uri": "https://localhost:8080/",
          "height": 34
        },
        "outputId": "7be6be6a-87df-4f2c-a9fb-b0de25016c20"
      },
      "source": [
        "type(corpus)"
      ],
      "execution_count": 55,
      "outputs": [
        {
          "output_type": "execute_result",
          "data": {
            "text/plain": [
              "list"
            ]
          },
          "metadata": {
            "tags": []
          },
          "execution_count": 55
        }
      ]
    },
    {
      "cell_type": "code",
      "metadata": {
        "id": "cIWqgpVlFFal",
        "colab_type": "code",
        "colab": {}
      },
      "source": [
        "# Creating the TF-IDF model\n",
        "from sklearn.feature_extraction.text import TfidfVectorizer\n",
        "cv = TfidfVectorizer()\n",
        "X = cv.fit_transform(corpus).toarray()"
      ],
      "execution_count": 0,
      "outputs": []
    },
    {
      "cell_type": "code",
      "metadata": {
        "id": "5X1RlcBKIRXA",
        "colab_type": "code",
        "colab": {
          "base_uri": "https://localhost:8080/",
          "height": 247
        },
        "outputId": "97858c3f-2818-4274-e8bd-3567f0ae6245"
      },
      "source": [
        "X"
      ],
      "execution_count": 39,
      "outputs": [
        {
          "output_type": "execute_result",
          "data": {
            "text/plain": [
              "array([[0.        , 0.        , 0.        , ..., 0.        , 0.        ,\n",
              "        0.        ],\n",
              "       [0.        , 0.        , 0.        , ..., 0.25883507, 0.30512561,\n",
              "        0.        ],\n",
              "       [0.        , 0.28867513, 0.        , ..., 0.        , 0.        ,\n",
              "        0.        ],\n",
              "       ...,\n",
              "       [0.        , 0.        , 0.        , ..., 0.        , 0.        ,\n",
              "        0.        ],\n",
              "       [0.        , 0.        , 0.        , ..., 0.        , 0.        ,\n",
              "        0.        ],\n",
              "       [0.        , 0.        , 0.        , ..., 0.        , 0.        ,\n",
              "        0.        ]])"
            ]
          },
          "metadata": {
            "tags": []
          },
          "execution_count": 39
        }
      ]
    },
    {
      "cell_type": "code",
      "metadata": {
        "id": "CTo9z-IAIToU",
        "colab_type": "code",
        "colab": {}
      },
      "source": [
        ""
      ],
      "execution_count": 0,
      "outputs": []
    }
  ]
}